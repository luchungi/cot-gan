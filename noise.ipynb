{
 "cells": [
  {
   "cell_type": "code",
   "execution_count": 1,
   "metadata": {},
   "outputs": [],
   "source": [
    "%load_ext autoreload\n",
    "%autoreload 2\n",
    "import pandas as pd\n",
    "import data_utils"
   ]
  },
  {
   "cell_type": "code",
   "execution_count": 2,
   "metadata": {},
   "outputs": [
    {
     "data": {
      "text/html": [
       "<div>\n",
       "<style scoped>\n",
       "    .dataframe tbody tr th:only-of-type {\n",
       "        vertical-align: middle;\n",
       "    }\n",
       "\n",
       "    .dataframe tbody tr th {\n",
       "        vertical-align: top;\n",
       "    }\n",
       "\n",
       "    .dataframe thead th {\n",
       "        text-align: right;\n",
       "    }\n",
       "</style>\n",
       "<table border=\"1\" class=\"dataframe\">\n",
       "  <thead>\n",
       "    <tr style=\"text-align: right;\">\n",
       "      <th></th>\n",
       "      <th>spx</th>\n",
       "    </tr>\n",
       "    <tr>\n",
       "      <th>Date</th>\n",
       "      <th></th>\n",
       "    </tr>\n",
       "  </thead>\n",
       "  <tbody>\n",
       "    <tr>\n",
       "      <th>1927-12-30</th>\n",
       "      <td>17.660000</td>\n",
       "    </tr>\n",
       "    <tr>\n",
       "      <th>1928-01-03</th>\n",
       "      <td>17.760000</td>\n",
       "    </tr>\n",
       "    <tr>\n",
       "      <th>1928-01-04</th>\n",
       "      <td>17.719999</td>\n",
       "    </tr>\n",
       "    <tr>\n",
       "      <th>1928-01-05</th>\n",
       "      <td>17.549999</td>\n",
       "    </tr>\n",
       "    <tr>\n",
       "      <th>1928-01-06</th>\n",
       "      <td>17.660000</td>\n",
       "    </tr>\n",
       "    <tr>\n",
       "      <th>...</th>\n",
       "      <td>...</td>\n",
       "    </tr>\n",
       "    <tr>\n",
       "      <th>2023-12-21</th>\n",
       "      <td>4746.750000</td>\n",
       "    </tr>\n",
       "    <tr>\n",
       "      <th>2023-12-22</th>\n",
       "      <td>4754.629883</td>\n",
       "    </tr>\n",
       "    <tr>\n",
       "      <th>2023-12-26</th>\n",
       "      <td>4774.750000</td>\n",
       "    </tr>\n",
       "    <tr>\n",
       "      <th>2023-12-27</th>\n",
       "      <td>4781.580078</td>\n",
       "    </tr>\n",
       "    <tr>\n",
       "      <th>2023-12-28</th>\n",
       "      <td>4783.350098</td>\n",
       "    </tr>\n",
       "  </tbody>\n",
       "</table>\n",
       "<p>24114 rows × 1 columns</p>\n",
       "</div>"
      ],
      "text/plain": [
       "                    spx\n",
       "Date                   \n",
       "1927-12-30    17.660000\n",
       "1928-01-03    17.760000\n",
       "1928-01-04    17.719999\n",
       "1928-01-05    17.549999\n",
       "1928-01-06    17.660000\n",
       "...                 ...\n",
       "2023-12-21  4746.750000\n",
       "2023-12-22  4754.629883\n",
       "2023-12-26  4774.750000\n",
       "2023-12-27  4781.580078\n",
       "2023-12-28  4783.350098\n",
       "\n",
       "[24114 rows x 1 columns]"
      ]
     },
     "execution_count": 2,
     "metadata": {},
     "output_type": "execute_result"
    }
   ],
   "source": [
    "df = pd.read_csv('./data/spx_20231229.csv', index_col=0, parse_dates=True)\n",
    "df"
   ]
  },
  {
   "cell_type": "code",
   "execution_count": 3,
   "metadata": {},
   "outputs": [
    {
     "name": "stdout",
     "output_type": "stream",
     "text": [
      "Optimization terminated successfully    (Exit mode 0)\n",
      "            Current function value: 5855.988337142852\n",
      "            Iterations: 37\n",
      "            Function evaluations: 859\n",
      "            Gradient evaluations: 37\n",
      "                        Zero Mean - ARCH Model Results                        \n",
      "==============================================================================\n",
      "Dep. Variable:           gaussianized   R-squared:                       0.000\n",
      "Mean Model:                 Zero Mean   Adj. R-squared:                  0.000\n",
      "Vol Model:                       ARCH   Log-Likelihood:               -5855.99\n",
      "Distribution:                  Normal   AIC:                           11754.0\n",
      "Method:            Maximum Likelihood   BIC:                           11897.9\n",
      "                                        No. Observations:                 6999\n",
      "Date:                Tue, Apr 02 2024   Df Residuals:                     6999\n",
      "Time:                        16:41:03   Df Model:                            0\n",
      "                               Volatility Model                              \n",
      "=============================================================================\n",
      "                 coef    std err          t      P>|t|       95.0% Conf. Int.\n",
      "-----------------------------------------------------------------------------\n",
      "omega          0.0727  8.049e-03      9.032  1.688e-19  [5.692e-02,8.848e-02]\n",
      "alpha[1]       0.0186  1.285e-02      1.449      0.147 [-6.566e-03,4.380e-02]\n",
      "alpha[2]       0.0827  1.292e-02      6.401  1.546e-10    [5.736e-02,  0.108]\n",
      "alpha[3]       0.0258  1.273e-02      2.028  4.254e-02  [8.689e-04,5.075e-02]\n",
      "alpha[4]       0.0722  1.427e-02      5.061  4.163e-07    [4.426e-02,  0.100]\n",
      "alpha[5]       0.1752  1.634e-02     10.721  8.127e-27      [  0.143,  0.207]\n",
      "alpha[6]       0.0267  1.268e-02      2.101  3.562e-02  [1.792e-03,5.151e-02]\n",
      "alpha[7]       0.0282  1.428e-02      1.978  4.795e-02  [2.544e-04,5.621e-02]\n",
      "alpha[8]       0.0191  1.346e-02      1.419      0.156 [-7.277e-03,4.547e-02]\n",
      "alpha[9]       0.0556  1.477e-02      3.764  1.673e-04  [2.664e-02,8.452e-02]\n",
      "alpha[10]      0.1145  1.513e-02      7.571  3.714e-14    [8.487e-02,  0.144]\n",
      "alpha[11]      0.0196  1.386e-02      1.414      0.157 [-7.571e-03,4.676e-02]\n",
      "alpha[12]  4.4795e-03  1.334e-02      0.336      0.737 [-2.166e-02,3.062e-02]\n",
      "alpha[13]  8.0320e-12  1.147e-02  7.002e-10      1.000 [-2.248e-02,2.248e-02]\n",
      "alpha[14]      0.0266  1.424e-02      1.868  6.179e-02 [-1.312e-03,5.449e-02]\n",
      "alpha[15]      0.0318  1.366e-02      2.329  1.986e-02  [5.041e-03,5.858e-02]\n",
      "alpha[16]  7.9793e-12  1.425e-02  5.599e-10      1.000 [-2.793e-02,2.793e-02]\n",
      "alpha[17]  9.4517e-12  1.227e-02  7.703e-10      1.000 [-2.405e-02,2.405e-02]\n",
      "alpha[18]  1.2805e-11  1.414e-02  9.055e-10      1.000 [-2.771e-02,2.771e-02]\n",
      "alpha[19]      0.0806  1.513e-02      5.331  9.787e-08    [5.099e-02,  0.110]\n",
      "alpha[20]      0.0205  1.290e-02      1.588      0.112 [-4.793e-03,4.577e-02]\n",
      "=============================================================================\n",
      "\n",
      "Covariance estimator: robust\n",
      "(11, 7, 3)\n"
     ]
    },
    {
     "name": "stderr",
     "output_type": "stream",
     "text": [
      "2024-04-02 16:41:03.840184: I metal_plugin/src/device/metal_device.cc:1154] Metal device set to: Apple M1\n",
      "2024-04-02 16:41:03.840207: I metal_plugin/src/device/metal_device.cc:296] systemMemory: 16.00 GB\n",
      "2024-04-02 16:41:03.840212: I metal_plugin/src/device/metal_device.cc:313] maxCacheSize: 5.33 GB\n",
      "2024-04-02 16:41:03.840241: I tensorflow/core/common_runtime/pluggable_device/pluggable_device_factory.cc:306] Could not identify NUMA node of platform GPU ID 0, defaulting to 0. Your kernel may not have been built with NUMA support.\n",
      "2024-04-02 16:41:03.840257: I tensorflow/core/common_runtime/pluggable_device/pluggable_device_factory.cc:272] Created TensorFlow device (/job:localhost/replica:0/task:0/device:GPU:0 with 0 MB memory) -> physical PluggableDevice (device: 0, name: METAL, pci bus id: <undefined>)\n"
     ]
    },
    {
     "data": {
      "text/plain": [
       "array([[[ 0.2656886 ,  0.41049497, -0.92264535],\n",
       "        [-0.07073477, -0.24101375, -0.29553984],\n",
       "        [ 0.27875535,  0.23916696, -0.50774306],\n",
       "        [ 0.93035101, -0.28554913,  0.19960374],\n",
       "        [-0.10995415, -0.21477169, -0.47923273],\n",
       "        [-0.13067969,  0.12520988, -0.8872341 ],\n",
       "        [ 0.69764277, -0.82988502,  0.73926567]],\n",
       "\n",
       "       [[-0.11812188, -0.31424278, -0.63872226],\n",
       "        [ 0.03834967, -0.16605951,  0.11995609],\n",
       "        [-0.71052651, -0.30456219, -1.03977661],\n",
       "        [-0.28324702,  0.95782078, -0.71855532],\n",
       "        [ 0.08007696, -0.009634  ,  0.15321416],\n",
       "        [-0.52449728, -0.56254171,  0.42348563],\n",
       "        [ 0.18157865,  0.39662409,  0.09368481]]])"
      ]
     },
     "execution_count": 3,
     "metadata": {},
     "output_type": "execute_result"
    }
   ],
   "source": [
    "dist_z = data_utils.GARCH(df, start_date='1995-01-01', end_date='2022-10-19', sample_len=300,\n",
    "                          p=20, o=0, q=0, mean_model='Zero', vol_model='GARCH', dist='gaussian',\n",
    "                          seed=42, stride=50)\n",
    "noise = dist_z.sample((11, 7, 3))\n",
    "print(noise.shape)\n",
    "noise[:2]"
   ]
  }
 ],
 "metadata": {
  "kernelspec": {
   "display_name": "tf-sig",
   "language": "python",
   "name": "python3"
  },
  "language_info": {
   "codemirror_mode": {
    "name": "ipython",
    "version": 3
   },
   "file_extension": ".py",
   "mimetype": "text/x-python",
   "name": "python",
   "nbconvert_exporter": "python",
   "pygments_lexer": "ipython3",
   "version": "3.11.6"
  }
 },
 "nbformat": 4,
 "nbformat_minor": 2
}
