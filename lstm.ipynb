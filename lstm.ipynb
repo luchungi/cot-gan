{
 "cells": [
  {
   "cell_type": "code",
   "execution_count": 8,
   "metadata": {},
   "outputs": [
    {
     "name": "stdout",
     "output_type": "stream",
     "text": [
      "The autoreload extension is already loaded. To reload it, use:\n",
      "  %reload_ext autoreload\n"
     ]
    }
   ],
   "source": [
    "%load_ext autoreload\n",
    "%autoreload 2\n",
    "import tensorflow as tf\n",
    "import tensorflow.keras.layers as layers\n",
    "from gan import GenLSTMd"
   ]
  },
  {
   "cell_type": "code",
   "execution_count": 2,
   "metadata": {},
   "outputs": [],
   "source": [
    "noise_dim = 2\n",
    "input_size = 3\n",
    "seq_len = 5\n",
    "hidden_size = 7\n",
    "batch_size = 11\n",
    "n_lstm_layers = 1"
   ]
  },
  {
   "cell_type": "code",
   "execution_count": 13,
   "metadata": {},
   "outputs": [
    {
     "data": {
      "text/plain": [
       "(TensorShape([11, 5, 7]), TensorShape([11, 7]), TensorShape([11, 7]))"
      ]
     },
     "execution_count": 13,
     "metadata": {},
     "output_type": "execute_result"
    }
   ],
   "source": [
    "lstm = layers.LSTM(input_shape=(seq_len, input_size), units=hidden_size, return_sequences=True, return_state=True)\n",
    "input = tf.random.normal((batch_size, seq_len, input_size))\n",
    "output, hidden_state, cell_state = lstm(input)\n",
    "output.shape, hidden_state.shape, cell_state.shape"
   ]
  },
  {
   "cell_type": "code",
   "execution_count": 14,
   "metadata": {},
   "outputs": [
    {
     "data": {
      "text/plain": [
       "<tf.Tensor: shape=(11, 7), dtype=bool, numpy=\n",
       "array([[ True,  True,  True,  True,  True,  True,  True],\n",
       "       [ True,  True,  True,  True,  True,  True,  True],\n",
       "       [ True,  True,  True,  True,  True,  True,  True],\n",
       "       [ True,  True,  True,  True,  True,  True,  True],\n",
       "       [ True,  True,  True,  True,  True,  True,  True],\n",
       "       [ True,  True,  True,  True,  True,  True,  True],\n",
       "       [ True,  True,  True,  True,  True,  True,  True],\n",
       "       [ True,  True,  True,  True,  True,  True,  True],\n",
       "       [ True,  True,  True,  True,  True,  True,  True],\n",
       "       [ True,  True,  True,  True,  True,  True,  True],\n",
       "       [ True,  True,  True,  True,  True,  True,  True]])>"
      ]
     },
     "execution_count": 14,
     "metadata": {},
     "output_type": "execute_result"
    }
   ],
   "source": [
    "output[:, -1, :] == hidden_state"
   ]
  },
  {
   "cell_type": "code",
   "execution_count": 10,
   "metadata": {},
   "outputs": [
    {
     "data": {
      "text/plain": [
       "(TensorShape([11, 5, 7]), TensorShape([11, 7]), TensorShape([11, 7]))"
      ]
     },
     "execution_count": 10,
     "metadata": {},
     "output_type": "execute_result"
    }
   ],
   "source": [
    "# use hidden state and cell state as initial state\n",
    "input = tf.random.normal((batch_size, seq_len, input_size))\n",
    "output, hidden_state, cell_state = lstm(input, initial_state=[hidden_state, cell_state])\n",
    "output.shape, hidden_state.shape, cell_state.shape"
   ]
  },
  {
   "cell_type": "code",
   "execution_count": 40,
   "metadata": {},
   "outputs": [
    {
     "data": {
      "text/plain": [
       "TensorShape([11, 5, 1])"
      ]
     },
     "execution_count": 40,
     "metadata": {},
     "output_type": "execute_result"
    }
   ],
   "source": [
    "noise = tf.random.normal((batch_size, seq_len-1, 1))\n",
    "hist_x = tf.random.normal((batch_size, seq_len, input_size-2))\n",
    "t = tf.range(seq_len, dtype=tf.float32)\n",
    "t = tf.reshape(t, (1, seq_len, 1))\n",
    "t = tf.tile(t, (batch_size, 1, 1))\n",
    "t.shape"
   ]
  },
  {
   "cell_type": "code",
   "execution_count": 41,
   "metadata": {},
   "outputs": [
    {
     "name": "stdout",
     "output_type": "stream",
     "text": [
      "(11, 1, 1) (11, 4, 1)\n",
      "(11, 5, 1)\n"
     ]
    },
    {
     "data": {
      "text/plain": [
       "(11, TensorShape([11, 4, 7]), TensorShape([11, 0, 1]), TensorShape([11, 0, 1]))"
      ]
     },
     "execution_count": 41,
     "metadata": {},
     "output_type": "execute_result"
    }
   ],
   "source": [
    "batch_size = noise.shape[0] # noise shape: batch_size, seq_len, noise_dim\n",
    "h = tf.zeros([batch_size, hidden_size])\n",
    "c = tf.zeros([batch_size, hidden_size])\n",
    "seq = tf.zeros([batch_size, 1, 1])\n",
    "\n",
    "dts = t[:, 1:, :] - t[:, :-1, :]\n",
    "if hist_x is not None: # feed in the historical data to get the hidden state\n",
    "    diff_x = hist_x[:, 1:, :] - hist_x[:, :-1, :]\n",
    "    input = tf.concat([diff_x, noise[:, :tf.shape(diff_x)[1], :], dts[:, :tf.shape(diff_x)[1], :]], axis=-1)\n",
    "    output, h, c = lstm(input, initial_state=[h, c])\n",
    "    noise = noise[:,tf.shape(diff_x)[1]:,:] # set the noise to start from the end of the historical data\n",
    "    dts = dts[:,tf.shape(diff_x)[1]:,:] # continue from the last dt\n",
    "    print(seq.shape, diff_x.shape)\n",
    "    seq = tf.concat([seq, diff_x], axis=1)\n",
    "    print(seq.shape)\n",
    "else:\n",
    "    output = tf.zeros([batch_size, 1, hidden_size])\n",
    "len(seq), output.shape, noise.shape, dts.shape"
   ]
  },
  {
   "cell_type": "code",
   "execution_count": 11,
   "metadata": {},
   "outputs": [],
   "source": [
    "noise_dim = 2\n",
    "seq_dim = 1\n",
    "seq_len = 13\n",
    "hist_len = 5\n",
    "hidden_size = 7\n",
    "batch_size = 11"
   ]
  },
  {
   "cell_type": "code",
   "execution_count": 12,
   "metadata": {},
   "outputs": [
    {
     "name": "stdout",
     "output_type": "stream",
     "text": [
      "Generated single step output shape: (11, 1, 1)\n",
      "Generated single step output shape: (11, 1, 1)\n",
      "Generated single step output shape: (11, 1, 1)\n",
      "Generated single step output shape: (11, 1, 1)\n",
      "Generated single step output shape: (11, 1, 1)\n",
      "Generated single step output shape: (11, 1, 1)\n",
      "Generated single step output shape: (11, 1, 1)\n",
      "Generated single step output shape: (11, 1, 1)\n",
      "Historical sequence shape: (11, 5, 1)\n",
      "Generated sequence shape: (11, 8, 1)\n"
     ]
    },
    {
     "data": {
      "text/plain": [
       "TensorShape([11, 13, 2])"
      ]
     },
     "execution_count": 12,
     "metadata": {},
     "output_type": "execute_result"
    }
   ],
   "source": [
    "x = tf.random.normal((batch_size, seq_len, seq_dim))\n",
    "noise = tf.random.normal((batch_size, seq_len-1, noise_dim))\n",
    "t = tf.range(seq_len, dtype=tf.float32)\n",
    "t = tf.reshape(t, (1, seq_len, 1))\n",
    "t = tf.tile(t, (batch_size, 1, 1))\n",
    "x = tf.concat([t, x], axis=-1)\n",
    "model = GenLSTMd(noise_dim, seq_dim, seq_len, hist_len, hidden_size=hidden_size)\n",
    "output = model(noise, x)\n",
    "output.shape"
   ]
  },
  {
   "cell_type": "code",
   "execution_count": 7,
   "metadata": {},
   "outputs": [
    {
     "data": {
      "text/plain": [
       "<tf.Tensor: shape=(13, 2), dtype=float32, numpy=\n",
       "array([[ 0.        ,  0.        ],\n",
       "       [ 1.        ,  1.8988743 ],\n",
       "       [ 2.        ,  0.9065581 ],\n",
       "       [ 3.        ,  2.9653125 ],\n",
       "       [ 4.        ,  2.6369126 ],\n",
       "       [ 5.        ,  2.4417803 ],\n",
       "       [ 6.        ,  2.2293181 ],\n",
       "       [ 7.        ,  1.9813786 ],\n",
       "       [ 8.        ,  1.6726481 ],\n",
       "       [ 9.        ,  1.3360975 ],\n",
       "       [10.        ,  0.9697833 ],\n",
       "       [11.        ,  0.60960984],\n",
       "       [12.        ,  0.23554277]], dtype=float32)>"
      ]
     },
     "execution_count": 7,
     "metadata": {},
     "output_type": "execute_result"
    }
   ],
   "source": [
    "output[1]"
   ]
  }
 ],
 "metadata": {
  "kernelspec": {
   "display_name": "tf",
   "language": "python",
   "name": "python3"
  },
  "language_info": {
   "codemirror_mode": {
    "name": "ipython",
    "version": 3
   },
   "file_extension": ".py",
   "mimetype": "text/x-python",
   "name": "python",
   "nbconvert_exporter": "python",
   "pygments_lexer": "ipython3",
   "version": "3.11.6"
  }
 },
 "nbformat": 4,
 "nbformat_minor": 2
}
