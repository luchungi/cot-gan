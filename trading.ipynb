{
 "cells": [
  {
   "cell_type": "markdown",
   "metadata": {},
   "source": [
    "# Imports"
   ]
  },
  {
   "cell_type": "code",
   "execution_count": null,
   "metadata": {},
   "outputs": [],
   "source": [
    "%load_ext autoreload\n",
    "%autoreload 2\n",
    "import os\n",
    "if os.uname().sysname == 'Darwin' or os.uname().nodename.startswith('aidf'):\n",
    "    base_path = './runs/'\n",
    "elif os.uname().sysname == 'Linux' and os.uname().nodename.startswith('Desktop'):\n",
    "    base_path = '../cot-gan/trained/'\n",
    "\n",
    "import numpy as np\n",
    "import pandas as pd\n",
    "import warnings\n",
    "warnings.simplefilter(action='ignore', category=FutureWarning)\n",
    "import torch\n",
    "torch.set_float32_matmul_precision('high')\n",
    "from stable_baselines3.common.evaluation import evaluate_policy\n",
    "from stable_baselines3.common.utils import set_random_seed\n",
    "from stable_baselines3.common.callbacks import CheckpointCallback\n",
    "from base import *\n",
    "# from train import *\n",
    "device = torch.device('cpu')\n",
    "os.environ[\"CUDA_VISIBLE_DEVICES\"] = \"-1\""
   ]
  },
  {
   "cell_type": "markdown",
   "metadata": {},
   "source": [
    "# Experiment Settings"
   ]
  },
  {
   "cell_type": "code",
   "execution_count": null,
   "metadata": {},
   "outputs": [],
   "source": [
    "# ENV\n",
    "max_long = 1.\n",
    "max_short = -1.0\n",
    "interest_rate = 0.0\n",
    "transaction_cost = 0.001\n",
    "n_training_steps = 10e6\n",
    "n_eval_episodes = 100\n",
    "signature_features = False # whether to transform the historical sequence of prices into signature features\n",
    "rl_n_levels = 3 # number of levels in the signature feature in the observation space\n",
    "rl_lead_lag = [1] # number of lags in the signature feature in the observation space\n",
    "\n",
    "trading_calendar = 'NYSE'\n",
    "gen_start_date = '1995-02-01' # includes the historical path used to condition the generator\n",
    "gen_end_date = '2022-10-19'\n",
    "random_dates = True # if True, the generated sequences can start from any randomly sampled date between (1995-01-01 + max(p,o,q) trading days) and (2022-10-19 - (hist_len + n_periods) trading days)\n",
    "sample_len = 1300 # used only if random_dates is True else it is based on gen_start_date and gen_end_date\n",
    "gen_batch_size = 1 if random_dates else 160\n",
    "\n",
    "random_seed = False\n",
    "seed = np.random.randint(0, 100000) if random_seed else 504\n",
    "torch.manual_seed(seed)\n",
    "set_random_seed(seed)\n",
    "\n",
    "# GENERATOR\n",
    "\n",
    "# path = 'Feb26_08-21-16_aidf-svr-gpu03_Realdt_LSTMd_truncated_rq_5/' # n_levels=5, order=5, noise dim 4, batch_size=38\n",
    "path = 'SPX_Apr08-09-57SPX_e1r1s42/' # n_levels=10, order=1, noise dim 4, batch_size=38\n",
    "wgt_filename = 'generator/'\n",
    "\n",
    "continue_training = False\n",
    "agent_path = './runs/Mar20_14-28-38_lus-imac.lan_PPO_truncated_rq_10/'"
   ]
  },
  {
   "cell_type": "markdown",
   "metadata": {},
   "source": [
    "### Generator params"
   ]
  },
  {
   "cell_type": "code",
   "execution_count": null,
   "metadata": {},
   "outputs": [],
   "source": [
    "events_path = base_path + path + 'log/'\n",
    "params = get_hparams(events_path)\n",
    "params['data_params']['sample_len'] = sample_len\n",
    "params"
   ]
  },
  {
   "cell_type": "code",
   "execution_count": null,
   "metadata": {},
   "outputs": [],
   "source": [
    "generator = get_generator({**params['model_params'], **params['data_params']}, base_path+path+wgt_filename)"
   ]
  },
  {
   "cell_type": "markdown",
   "metadata": {},
   "source": [
    "### RL Params"
   ]
  },
  {
   "cell_type": "code",
   "execution_count": null,
   "metadata": {},
   "outputs": [],
   "source": [
    "# ENV\n",
    "max_long = 1.\n",
    "max_short = -1.0\n",
    "interest_rate = 0.0\n",
    "transaction_cost = 0.001\n",
    "n_training_steps = 10e6\n",
    "n_eval_episodes = 100\n",
    "signature_features = False # whether to transform the historical sequence of prices into signature features\n",
    "rl_n_levels = 3 # number of levels in the signature feature in the observation space\n",
    "rl_lead_lag = [1] # number of lags in the signature feature in the observation space\n",
    "\n",
    "trading_calendar = 'NYSE'\n",
    "gen_start_date = '1995-02-01' # includes the historical path used to condition the generator\n",
    "gen_end_date = '2022-10-19'\n",
    "random_dates = True # if True, the generated sequences can start from any randomly sampled date between (1995-01-01 + max(p,o,q) trading days) and (2022-10-19 - (hist_len + n_periods) trading days)\n",
    "sample_len = 1300 # used only if random_dates is True else it is based on gen_start_date and gen_end_date\n",
    "gen_batch_size = 4 if random_dates else 160\n",
    "\n",
    "random_seed = False\n",
    "seed = np.random.randint(0, 100000) if random_seed else 504\n",
    "torch.manual_seed(seed)\n",
    "set_random_seed(seed)\n",
    "\n",
    "# GENERATOR\n",
    "\n",
    "# path = 'Feb26_08-21-16_aidf-svr-gpu03_Realdt_LSTMd_truncated_rq_5/' # n_levels=5, order=5, noise dim 4, batch_size=38\n",
    "path = 'SPX_Apr08-09-57SPX_e1r1s42/' # n_levels=10, order=1, noise dim 4, batch_size=38\n",
    "wgt_filename = 'generator/'"
   ]
  },
  {
   "cell_type": "code",
   "execution_count": null,
   "metadata": {},
   "outputs": [],
   "source": [
    "sample_len = params['data_params']['sample_len']\n",
    "hist_len = params['data_params']['hist_len']\n",
    "df = pd.read_csv('./data/spx_20231229.csv', index_col=0, parse_dates=True)\n",
    "df = df.loc['1995-01-01':, :]\n",
    "if not random_dates:\n",
    "    sample_len = len(df[gen_start_date:gen_end_date])\n",
    "n_periods = sample_len - hist_len # number of periods where the agent can trade\n",
    "window_len = hist_len # number of periods in the historical window that is part of the state\n",
    "\n",
    "# AGENT TYPE\n",
    "RL_algo = 'PPO'         # DDPG / SAC / A2C / TD3 / PPO\n",
    "policy_kwargs = dict(\n",
    "    # activation_fn=torch.nn.ReLU,\n",
    "    activation_fn=torch.nn.Tanh,\n",
    "    net_arch=[64, 64, 32],\n",
    "    # log_std_init=-1.0       # default is 0 for PPO/A2C / -3 for SAC\n",
    ")\n",
    "arguments = {\n",
    "    'device': device,\n",
    "    # 'gamma': 0.0,                    # default is 0.99 for PPO/SAC/DDPG/TD3\n",
    "    'gae_lambda': 0.9,                 # default is 0.95 for PPO\n",
    "    'vf_coef': 1.0,                   # default is 0.5 for PPO\n",
    "    'n_steps': n_periods*50, # default is 2048 for PPO / 5 for A2C which uses batch_size = n_steps * n_envs\n",
    "    'batch_size': 250,                 # default is 64 for PPO, 256 for SAC / 100 for DDPG\n",
    "    # 'n_epochs': 10,                    # default is 10 for PPO\n",
    "    'learning_rate': 3e-5,           # default is 0.0003 for PPO/SAC / 0.001 for TD3\n",
    "    'clip_range': 0.07,                # default is 0.2 for PPO\n",
    "    # 'max_grad_norm': 1e10,             # default is 0.5 for PPO\n",
    "    'policy_kwargs':policy_kwargs\n",
    "}\n",
    "rl_params = {**{'algo': RL_algo},\n",
    "             **{k: v for k, v in arguments.items() if k!='policy_kwargs' and k!='device'},\n",
    "             **{k: v if k!='activation_fn' else str(v).split('.')[-1][:-2] for k, v in policy_kwargs.items()}}\n",
    "\n",
    "\n",
    "env_params = {\n",
    "    'max_long': max_long,\n",
    "    'max_short': max_short,\n",
    "    'interest_rate': interest_rate,\n",
    "    'transaction_cost': transaction_cost,\n",
    "    'n_training_steps': n_training_steps,\n",
    "    'n_eval_episodes': n_eval_episodes,\n",
    "    'signature_features': signature_features,\n",
    "    'trading_calendar': trading_calendar,\n",
    "    'gen_start_date': gen_start_date,\n",
    "    'gen_end_date': gen_end_date,\n",
    "    'random_dates': random_dates,\n",
    "    'sample_len': sample_len,\n",
    "    'window_len': window_len,\n",
    "    'hist_len': hist_len,\n",
    "    'n_periods': sample_len - hist_len,\n",
    "    'gen_batch_size': gen_batch_size,\n",
    "    'random_seed': random_seed,\n",
    "    'seed': seed,\n",
    "    'path': path,\n",
    "    'wgt_filename': wgt_filename\n",
    "}\n",
    "if signature_features:\n",
    "    env_params['rl_n_levels'] = rl_n_levels\n",
    "    env_params['rl_lead_lag'] = rl_lead_lag"
   ]
  },
  {
   "cell_type": "markdown",
   "metadata": {},
   "source": [
    "### Get all objects"
   ]
  },
  {
   "cell_type": "code",
   "execution_count": null,
   "metadata": {},
   "outputs": [],
   "source": [
    "# save parameters to tensorboard\n",
    "writer = start_writer(params['data_params'], params['model_params'], params['training_params'], rl_params, env_params)\n",
    "\n",
    "# get generator\n",
    "path_generator = GARCH_path_generator(generator, df, '1995-01-01', '2022-10-19', 20, 0, 0, 'Zero', 'GARCH', 'gaussian', 0, seed)\n",
    "\n",
    "# get env\n",
    "env = get_rl_env(path_generator, writer, env_params, seed=seed)\n",
    "env.plot_episode_freq = 1000000\n",
    "\n",
    "# get agent\n",
    "agent = get_rl_agent(RL_algo, env, arguments, writer.log_dir, seed=seed)"
   ]
  },
  {
   "cell_type": "markdown",
   "metadata": {},
   "source": [
    "# Training"
   ]
  },
  {
   "cell_type": "code",
   "execution_count": null,
   "metadata": {},
   "outputs": [],
   "source": [
    "checkpoint_callback = CheckpointCallback(\n",
    "    save_freq=1000000,\n",
    "    save_path=writer.log_dir + '/checkpoints/',\n",
    "    name_prefix='agent',\n",
    ")\n",
    "if continue_training:\n",
    "    # log_path = f'{agent_path}rl_training_1/'\n",
    "    agent = PPO.load(agent_path + 'agent.zip', tensorboard_log=writer.log_dir)\n",
    "    agent.set_env(env)\n",
    "agent.learn(n_training_steps, tb_log_name='rl_training', callback=checkpoint_callback)"
   ]
  },
  {
   "cell_type": "code",
   "execution_count": null,
   "metadata": {},
   "outputs": [],
   "source": [
    "agent.save(writer.log_dir + '/agent.zip')"
   ]
  },
  {
   "cell_type": "code",
   "execution_count": null,
   "metadata": {},
   "outputs": [],
   "source": [
    "baseline_average_final_wealth, baseline_final_wealth_std, baseline_final_wealth_mad, baseline_wealth_std, baseline_time_growth_rate, baseline_ensemble_growth_rate, b_num_bankrupt, b_num_episodes = env.baseline_results()\n",
    "average_final_wealth, final_wealth_std, final_wealth_mad, wealth_std, time_growth_rate, ensemble_growth_rate, num_bankrupt, num_episodes = env.agent_results()\n",
    "\n",
    "print(f'Baseline / Agent Average Final Wealth: {baseline_average_final_wealth:.4f} / {average_final_wealth:.4f}')\n",
    "print(f'Baseline / Agent Final Wealth Std: {baseline_final_wealth_std:.4f} / {final_wealth_std:.4f}')\n",
    "print(f'Baseline / Agent Final Wealth MAD: {baseline_final_wealth_mad:.4f} / {final_wealth_mad:.4f}')\n",
    "print(f'Baseline / Agent Time Growth Rate: {baseline_time_growth_rate:.4f} / {time_growth_rate:.4f}')\n",
    "print(f'Baseline / Agent Ensemble Growth Rate: {baseline_ensemble_growth_rate:.4f} / {ensemble_growth_rate:.4f}')\n",
    "print(f'Agent Bankrupt Episodes: {num_bankrupt} / {num_episodes}')\n",
    "print(f'Baseline Bankrupt Episodes: {b_num_bankrupt} / {b_num_episodes}')"
   ]
  },
  {
   "cell_type": "markdown",
   "metadata": {},
   "source": [
    "# Evaluation"
   ]
  },
  {
   "cell_type": "markdown",
   "metadata": {},
   "source": [
    "### Using same generator"
   ]
  },
  {
   "cell_type": "code",
   "execution_count": null,
   "metadata": {},
   "outputs": [],
   "source": [
    "if 'agent' not in locals():\n",
    "    agent = PPO.load(agent_path + 'agent.zip')"
   ]
  },
  {
   "cell_type": "code",
   "execution_count": null,
   "metadata": {},
   "outputs": [],
   "source": [
    "eval_env = get_rl_env(path_generator, writer, env_params, eval=True)\n",
    "evaluate_policy(agent, eval_env, n_eval_episodes=n_eval_episodes, deterministic=True)"
   ]
  },
  {
   "cell_type": "code",
   "execution_count": null,
   "metadata": {},
   "outputs": [],
   "source": [
    "baseline_average_final_wealth, baseline_final_wealth_std, baseline_final_wealth_mad, baseline_wealth_std, baseline_time_growth_rate, baseline_ensemble_growth_rate, b_num_bankrupt, b_num_episodes = eval_env.baseline_results()\n",
    "average_final_wealth, final_wealth_std, final_wealth_mad, wealth_std, time_growth_rate, ensemble_growth_rate, num_bankrupt, num_episodes = eval_env.agent_results()\n",
    "\n",
    "print(f'Baseline / Agent Average Final Wealth: {baseline_average_final_wealth:.4f} / {average_final_wealth:.4f}')\n",
    "print(f'Baseline / Agent Final Wealth Std: {baseline_final_wealth_std:.4f} / {final_wealth_std:.4f}')\n",
    "print(f'Baseline / Agent Final Wealth MAD: {baseline_final_wealth_mad:.4f} / {final_wealth_mad:.4f}')\n",
    "print(f'Baseline / Agent Time Growth Rate: {baseline_time_growth_rate:.4f} / {time_growth_rate:.4f}')\n",
    "print(f'Baseline / Agent Ensemble Growth Rate: {baseline_ensemble_growth_rate:.4f} / {ensemble_growth_rate:.4f}')\n",
    "print(f'Agent Bankrupt Episodes: {num_bankrupt} / {num_episodes}')\n",
    "print(f'Baseline Bankrupt Episodes: {b_num_bankrupt} / {b_num_episodes}')"
   ]
  },
  {
   "cell_type": "code",
   "execution_count": null,
   "metadata": {},
   "outputs": [],
   "source": [
    "eval_env.weight_plot(step=1, title='Plots/Evaluation Weights')"
   ]
  },
  {
   "cell_type": "code",
   "execution_count": null,
   "metadata": {},
   "outputs": [],
   "source": [
    "eval_env.weight_mae_plot(step=1, title='Plots/Evaluation Weights MAE')"
   ]
  },
  {
   "cell_type": "code",
   "execution_count": null,
   "metadata": {},
   "outputs": [],
   "source": [
    "eval_env.final_wealth_plot()"
   ]
  },
  {
   "cell_type": "markdown",
   "metadata": {},
   "source": [
    "### Using real data"
   ]
  },
  {
   "cell_type": "code",
   "execution_count": null,
   "metadata": {},
   "outputs": [],
   "source": [
    "df = pd.read_csv('./data/spx_20231229.csv', index_col=0, parse_dates=True)\n",
    "df = df.loc['1995-01-01':]\n",
    "df.to_csv('./data/spx_rl.csv')\n",
    "path = './data/spx_rl.csv'"
   ]
  },
  {
   "cell_type": "code",
   "execution_count": null,
   "metadata": {},
   "outputs": [],
   "source": [
    "# get env\n",
    "env_params = {'n_periods': len(df) - env_params['window_len'],\n",
    "              'stride': 100,\n",
    "              'window_len': window_len,\n",
    "              'interest_rate': interest_rate,\n",
    "              'transaction_cost': transaction_cost,\n",
    "              'signature_features': signature_features}\n",
    "if signature_features:\n",
    "    env_params['rl_n_levels'] = rl_n_levels\n",
    "    env_params['rl_lead_lag'] = rl_lead_lag\n",
    "real_env = get_real_data_env(path, env_params, writer=writer)\n",
    "real_env.plot_episode_freq = 1"
   ]
  },
  {
   "cell_type": "code",
   "execution_count": null,
   "metadata": {},
   "outputs": [],
   "source": [
    "evaluate_policy(agent, real_env, n_eval_episodes=1, deterministic=True)"
   ]
  },
  {
   "cell_type": "code",
   "execution_count": null,
   "metadata": {},
   "outputs": [],
   "source": [
    "baseline_average_final_wealth, baseline_final_wealth_std, baseline_final_wealth_mad, baseline_wealth_std, baseline_time_growth_rate, baseline_ensemble_growth_rate, b_num_bankrupt, b_num_episodes = real_env.baseline_results()\n",
    "average_final_wealth, final_wealth_std, final_wealth_mad, wealth_std, time_growth_rate, ensemble_growth_rate, num_bankrupt, num_episodes = real_env.agent_results()\n",
    "\n",
    "print(f'Baseline / Agent Average Final Wealth: {baseline_average_final_wealth:.4f} / {average_final_wealth:.4f}')\n",
    "print(f'Baseline / Agent Final Wealth Std: {baseline_final_wealth_std:.4f} / {final_wealth_std:.4f}')\n",
    "print(f'Baseline / Agent Final Wealth MAD: {baseline_final_wealth_mad:.4f} / {final_wealth_mad:.4f}')\n",
    "print(f'Baseline / Agent Time Growth Rate: {baseline_time_growth_rate:.4f} / {time_growth_rate:.4f}')\n",
    "print(f'Baseline / Agent Ensemble Growth Rate: {baseline_ensemble_growth_rate:.4f} / {ensemble_growth_rate:.4f}')\n",
    "print(f'Agent Bankrupt Episodes: {num_bankrupt} / {num_episodes}')\n",
    "print(f'Baseline Bankrupt Episodes: {b_num_bankrupt} / {b_num_episodes}')"
   ]
  },
  {
   "cell_type": "code",
   "execution_count": null,
   "metadata": {},
   "outputs": [],
   "source": [
    "real_env.agent_wealth_plot(baseline=True, plot_range=False, title='Plots/Agent wealth (Real data)')"
   ]
  }
 ],
 "metadata": {
  "kernelspec": {
   "display_name": "ksig-mmd-rl",
   "language": "python",
   "name": "python3"
  },
  "language_info": {
   "codemirror_mode": {
    "name": "ipython",
    "version": 3
   },
   "file_extension": ".py",
   "mimetype": "text/x-python",
   "name": "python",
   "nbconvert_exporter": "python",
   "pygments_lexer": "ipython3",
   "version": "3.9.19"
  }
 },
 "nbformat": 4,
 "nbformat_minor": 2
}
